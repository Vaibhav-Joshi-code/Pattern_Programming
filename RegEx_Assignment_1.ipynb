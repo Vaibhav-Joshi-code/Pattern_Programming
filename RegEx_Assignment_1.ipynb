{
  "nbformat": 4,
  "nbformat_minor": 0,
  "metadata": {
    "colab": {
      "name": "RegEx Assignment 1.ipynb",
      "provenance": [],
      "collapsed_sections": []
    },
    "kernelspec": {
      "name": "python3",
      "display_name": "Python 3"
    },
    "language_info": {
      "name": "python"
    }
  },
  "cells": [
    {
      "cell_type": "markdown",
      "metadata": {
        "id": "eQU2p3To6FV7"
      },
      "source": [
        "Q. 1."
      ]
    },
    {
      "cell_type": "code",
      "metadata": {
        "colab": {
          "base_uri": "https://localhost:8080/"
        },
        "id": "a1v-3Gsx51Kk",
        "outputId": "3a325333-3d64-4fcb-c2ee-4c79e9f047a6"
      },
      "source": [
        "for i in range(1,6):\n",
        "    for j in range(1,6):\n",
        "        if j<=6-i:\n",
        "            print(5,end='')\n",
        "        else:\n",
        "            print(' ',end='')\n",
        "    print()"
      ],
      "execution_count": 1,
      "outputs": [
        {
          "output_type": "stream",
          "text": [
            "55555\n",
            "5555 \n",
            "555  \n",
            "55   \n",
            "5    \n"
          ],
          "name": "stdout"
        }
      ]
    },
    {
      "cell_type": "code",
      "metadata": {
        "colab": {
          "base_uri": "https://localhost:8080/"
        },
        "id": "5t7lvG946TdF",
        "outputId": "c1106372-8f50-44ab-e68a-37b817d061e5"
      },
      "source": [
        "## Q2\n",
        "\n",
        "for i in range(1,6):\n",
        "    for j in range(0,6):\n",
        "        if j<=6-i:\n",
        "            print(j,end='')\n",
        "        else:\n",
        "            print(' ',end='')\n",
        "    print()"
      ],
      "execution_count": 7,
      "outputs": [
        {
          "output_type": "stream",
          "text": [
            "012345\n",
            "01234 \n",
            "0123  \n",
            "012   \n",
            "01    \n"
          ],
          "name": "stdout"
        }
      ]
    },
    {
      "cell_type": "code",
      "metadata": {
        "id": "yf3orJuL7Z7l"
      },
      "source": [
        ""
      ],
      "execution_count": null,
      "outputs": []
    },
    {
      "cell_type": "code",
      "metadata": {
        "colab": {
          "base_uri": "https://localhost:8080/"
        },
        "id": "bPrV8Uagx-eF",
        "outputId": "cbebee6a-5fe3-415a-c993-ec3cc4c3936b"
      },
      "source": [
        "## Q3\n",
        "for i in range(1,6):\n",
        "    for j in range(1,6):\n",
        "        if j<=i:\n",
        "            print((2*i)-1,end='')\n",
        "        else:\n",
        "            print(\" \",end='')\n",
        "    print()"
      ],
      "execution_count": 2,
      "outputs": [
        {
          "output_type": "stream",
          "text": [
            "1    \n",
            "33   \n",
            "555  \n",
            "7777 \n",
            "99999\n"
          ],
          "name": "stdout"
        }
      ]
    },
    {
      "cell_type": "code",
      "metadata": {
        "id": "RoJhRd6mQc5C"
      },
      "source": [
        ""
      ],
      "execution_count": null,
      "outputs": []
    }
  ]
}